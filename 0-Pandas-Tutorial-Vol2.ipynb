{
 "cells": [
  {
   "cell_type": "markdown",
   "source": [
    "# Pandas Vol.2"
   ],
   "metadata": {
    "collapsed": false,
    "pycharm": {
     "name": "#%% md\n"
    }
   }
  },
  {
   "cell_type": "markdown",
   "source": [
    "在开始学习这份教程前，请确保你已学习下列内容：\n",
    "- Dataframe的基本操作\n",
    "- csv文件的读取与存储\n",
    "- 切片（列名 & loc()）\n",
    "- 常用聚合函数的使用（如：mean(), max()）\n",
    "- 排序\n",
    "- 查询（条件选择器 & query()）\n",
    "- groupby()\n",
    "- apply()\n",
    "- map()"
   ],
   "metadata": {
    "collapsed": false,
    "pycharm": {
     "name": "#%% md\n"
    }
   }
  },
  {
   "cell_type": "markdown",
   "source": [
    "repo中附的Pandas Cheat Sheet介绍了大部分常用的操作，包括：\n",
    "\n",
    "1. 数据重塑 (melt(), pivot())\n",
    "2. 数据合并 (concat(), merge())\n",
    "3. 数据总结 (count(), unique())\n",
    "\n",
    "我们还会另外cover几个常用函数：\n",
    "\n",
    "4. idxmax()\n",
    "5. nlargest()\n",
    "6. clip()\n",
    "7. replace()"
   ],
   "metadata": {
    "collapsed": false,
    "pycharm": {
     "name": "#%% md\n"
    }
   }
  }
 ],
 "metadata": {
  "kernelspec": {
   "display_name": "Python 3",
   "language": "python",
   "name": "python3"
  },
  "language_info": {
   "codemirror_mode": {
    "name": "ipython",
    "version": 2
   },
   "file_extension": ".py",
   "mimetype": "text/x-python",
   "name": "python",
   "nbconvert_exporter": "python",
   "pygments_lexer": "ipython2",
   "version": "2.7.6"
  }
 },
 "nbformat": 4,
 "nbformat_minor": 0
}