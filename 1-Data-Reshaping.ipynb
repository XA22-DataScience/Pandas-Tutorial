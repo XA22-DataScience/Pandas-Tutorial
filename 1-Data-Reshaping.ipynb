{
 "cells": [
  {
   "cell_type": "markdown",
   "source": [
    "## 1. 数据重塑\n",
    "\n",
    "数据重塑函数可以将单个或多个DataFrame重塑为需要的格式"
   ],
   "metadata": {
    "collapsed": false,
    "pycharm": {
     "name": "#%% md\n"
    }
   }
  },
  {
   "cell_type": "markdown",
   "source": [
    "### melt()\n",
    "\n",
    "**将DataFrame从宽格式转换为长格式**\n",
    "\n",
    "将部分列保留为标识符变量，将其他列转换为\\[变量、值]的格式\n",
    "\n",
    "参数：\n",
    "- id_vars：用作标识符变量的列\n",
    "- value_vars：转换为\\[变量、值]格式的列"
   ],
   "metadata": {
    "collapsed": false,
    "pycharm": {
     "name": "#%% md\n"
    }
   }
  },
  {
   "cell_type": "code",
   "execution_count": 1,
   "outputs": [],
   "source": [
    "import pandas as pd"
   ],
   "metadata": {
    "collapsed": false,
    "pycharm": {
     "name": "#%%\n"
    }
   }
  },
  {
   "cell_type": "code",
   "execution_count": 2,
   "outputs": [],
   "source": [
    "df = pd.DataFrame(\n",
    "    {\"Name\": {0: \"Adam\", 1: \"Bob\", 2: \"Ciel\"},\n",
    "     \"Program\": {0: \"DS\", 1: \"CV\", 2: \"DS\"},\n",
    "     \"Grade\": {0: 10, 1: 12, 2: 11}}\n",
    ")"
   ],
   "metadata": {
    "collapsed": false,
    "pycharm": {
     "name": "#%%\n"
    }
   }
  },
  {
   "cell_type": "code",
   "execution_count": 3,
   "outputs": [
    {
     "data": {
      "text/plain": "   Name Program  Grade\n0  Adam      DS     10\n1   Bob      CV     12\n2  Ciel      DS     11",
      "text/html": "<div>\n<style scoped>\n    .dataframe tbody tr th:only-of-type {\n        vertical-align: middle;\n    }\n\n    .dataframe tbody tr th {\n        vertical-align: top;\n    }\n\n    .dataframe thead th {\n        text-align: right;\n    }\n</style>\n<table border=\"1\" class=\"dataframe\">\n  <thead>\n    <tr style=\"text-align: right;\">\n      <th></th>\n      <th>Name</th>\n      <th>Program</th>\n      <th>Grade</th>\n    </tr>\n  </thead>\n  <tbody>\n    <tr>\n      <th>0</th>\n      <td>Adam</td>\n      <td>DS</td>\n      <td>10</td>\n    </tr>\n    <tr>\n      <th>1</th>\n      <td>Bob</td>\n      <td>CV</td>\n      <td>12</td>\n    </tr>\n    <tr>\n      <th>2</th>\n      <td>Ciel</td>\n      <td>DS</td>\n      <td>11</td>\n    </tr>\n  </tbody>\n</table>\n</div>"
     },
     "execution_count": 3,
     "metadata": {},
     "output_type": "execute_result"
    }
   ],
   "source": [
    "df"
   ],
   "metadata": {
    "collapsed": false,
    "pycharm": {
     "name": "#%%\n"
    }
   }
  },
  {
   "cell_type": "code",
   "execution_count": 4,
   "outputs": [
    {
     "data": {
      "text/plain": "  variable value\n0     Name  Adam\n1     Name   Bob\n2     Name  Ciel\n3  Program    DS\n4  Program    CV\n5  Program    DS\n6    Grade    10\n7    Grade    12\n8    Grade    11",
      "text/html": "<div>\n<style scoped>\n    .dataframe tbody tr th:only-of-type {\n        vertical-align: middle;\n    }\n\n    .dataframe tbody tr th {\n        vertical-align: top;\n    }\n\n    .dataframe thead th {\n        text-align: right;\n    }\n</style>\n<table border=\"1\" class=\"dataframe\">\n  <thead>\n    <tr style=\"text-align: right;\">\n      <th></th>\n      <th>variable</th>\n      <th>value</th>\n    </tr>\n  </thead>\n  <tbody>\n    <tr>\n      <th>0</th>\n      <td>Name</td>\n      <td>Adam</td>\n    </tr>\n    <tr>\n      <th>1</th>\n      <td>Name</td>\n      <td>Bob</td>\n    </tr>\n    <tr>\n      <th>2</th>\n      <td>Name</td>\n      <td>Ciel</td>\n    </tr>\n    <tr>\n      <th>3</th>\n      <td>Program</td>\n      <td>DS</td>\n    </tr>\n    <tr>\n      <th>4</th>\n      <td>Program</td>\n      <td>CV</td>\n    </tr>\n    <tr>\n      <th>5</th>\n      <td>Program</td>\n      <td>DS</td>\n    </tr>\n    <tr>\n      <th>6</th>\n      <td>Grade</td>\n      <td>10</td>\n    </tr>\n    <tr>\n      <th>7</th>\n      <td>Grade</td>\n      <td>12</td>\n    </tr>\n    <tr>\n      <th>8</th>\n      <td>Grade</td>\n      <td>11</td>\n    </tr>\n  </tbody>\n</table>\n</div>"
     },
     "execution_count": 4,
     "metadata": {},
     "output_type": "execute_result"
    }
   ],
   "source": [
    "pd.melt(df)\n",
    "# 无标识符变量，将所有列转换为[变量、值]的格式"
   ],
   "metadata": {
    "collapsed": false,
    "pycharm": {
     "name": "#%%\n"
    }
   }
  },
  {
   "cell_type": "code",
   "execution_count": 5,
   "outputs": [
    {
     "data": {
      "text/plain": "   Name variable value\n0  Adam  Program    DS\n1   Bob  Program    CV\n2  Ciel  Program    DS",
      "text/html": "<div>\n<style scoped>\n    .dataframe tbody tr th:only-of-type {\n        vertical-align: middle;\n    }\n\n    .dataframe tbody tr th {\n        vertical-align: top;\n    }\n\n    .dataframe thead th {\n        text-align: right;\n    }\n</style>\n<table border=\"1\" class=\"dataframe\">\n  <thead>\n    <tr style=\"text-align: right;\">\n      <th></th>\n      <th>Name</th>\n      <th>variable</th>\n      <th>value</th>\n    </tr>\n  </thead>\n  <tbody>\n    <tr>\n      <th>0</th>\n      <td>Adam</td>\n      <td>Program</td>\n      <td>DS</td>\n    </tr>\n    <tr>\n      <th>1</th>\n      <td>Bob</td>\n      <td>Program</td>\n      <td>CV</td>\n    </tr>\n    <tr>\n      <th>2</th>\n      <td>Ciel</td>\n      <td>Program</td>\n      <td>DS</td>\n    </tr>\n  </tbody>\n</table>\n</div>"
     },
     "execution_count": 5,
     "metadata": {},
     "output_type": "execute_result"
    }
   ],
   "source": [
    "pd.melt(df, id_vars=[\"Name\"], value_vars=[\"Program\"])\n",
    "# 将Name列作为标识符变量列仅将Program列转换为[变量、值]的格式"
   ],
   "metadata": {
    "collapsed": false,
    "pycharm": {
     "name": "#%%\n"
    }
   }
  },
  {
   "cell_type": "code",
   "execution_count": 6,
   "outputs": [
    {
     "data": {
      "text/plain": "   Name Program variable  value\n0  Adam      DS    Grade     10\n1   Bob      CV    Grade     12\n2  Ciel      DS    Grade     11",
      "text/html": "<div>\n<style scoped>\n    .dataframe tbody tr th:only-of-type {\n        vertical-align: middle;\n    }\n\n    .dataframe tbody tr th {\n        vertical-align: top;\n    }\n\n    .dataframe thead th {\n        text-align: right;\n    }\n</style>\n<table border=\"1\" class=\"dataframe\">\n  <thead>\n    <tr style=\"text-align: right;\">\n      <th></th>\n      <th>Name</th>\n      <th>Program</th>\n      <th>variable</th>\n      <th>value</th>\n    </tr>\n  </thead>\n  <tbody>\n    <tr>\n      <th>0</th>\n      <td>Adam</td>\n      <td>DS</td>\n      <td>Grade</td>\n      <td>10</td>\n    </tr>\n    <tr>\n      <th>1</th>\n      <td>Bob</td>\n      <td>CV</td>\n      <td>Grade</td>\n      <td>12</td>\n    </tr>\n    <tr>\n      <th>2</th>\n      <td>Ciel</td>\n      <td>DS</td>\n      <td>Grade</td>\n      <td>11</td>\n    </tr>\n  </tbody>\n</table>\n</div>"
     },
     "execution_count": 6,
     "metadata": {},
     "output_type": "execute_result"
    }
   ],
   "source": [
    "pd.melt(df, id_vars=[\"Name\", \"Program\"])\n",
    "# 将多个列作为标识符变量列"
   ],
   "metadata": {
    "collapsed": false,
    "pycharm": {
     "name": "#%%\n"
    }
   }
  },
  {
   "cell_type": "markdown",
   "source": [
    "### pivot()\n",
    "\n",
    "**melt()的逆操作**\n",
    "\n",
    "参数：\n",
    "- index：作为索引的列\n",
    "- columns：作为新DataFrame列名的列"
   ],
   "metadata": {
    "collapsed": false,
    "pycharm": {
     "name": "#%% md\n"
    }
   }
  },
  {
   "cell_type": "code",
   "execution_count": 7,
   "outputs": [],
   "source": [
    "df = pd.melt(pd.DataFrame(\n",
    "    {\"Name\": {0: \"Adam\", 1: \"Bob\", 2: \"Ciel\"},\n",
    "     \"Program\": {0: \"DS\", 1: \"CV\", 2: \"DS\"},\n",
    "     \"Grade\": {0: 10, 1: 12, 2: 11}}\n",
    "), id_vars=[\"Name\"])"
   ],
   "metadata": {
    "collapsed": false,
    "pycharm": {
     "name": "#%%\n"
    }
   }
  },
  {
   "cell_type": "code",
   "execution_count": 8,
   "outputs": [
    {
     "data": {
      "text/plain": "   Name variable value\n0  Adam  Program    DS\n1   Bob  Program    CV\n2  Ciel  Program    DS\n3  Adam    Grade    10\n4   Bob    Grade    12\n5  Ciel    Grade    11",
      "text/html": "<div>\n<style scoped>\n    .dataframe tbody tr th:only-of-type {\n        vertical-align: middle;\n    }\n\n    .dataframe tbody tr th {\n        vertical-align: top;\n    }\n\n    .dataframe thead th {\n        text-align: right;\n    }\n</style>\n<table border=\"1\" class=\"dataframe\">\n  <thead>\n    <tr style=\"text-align: right;\">\n      <th></th>\n      <th>Name</th>\n      <th>variable</th>\n      <th>value</th>\n    </tr>\n  </thead>\n  <tbody>\n    <tr>\n      <th>0</th>\n      <td>Adam</td>\n      <td>Program</td>\n      <td>DS</td>\n    </tr>\n    <tr>\n      <th>1</th>\n      <td>Bob</td>\n      <td>Program</td>\n      <td>CV</td>\n    </tr>\n    <tr>\n      <th>2</th>\n      <td>Ciel</td>\n      <td>Program</td>\n      <td>DS</td>\n    </tr>\n    <tr>\n      <th>3</th>\n      <td>Adam</td>\n      <td>Grade</td>\n      <td>10</td>\n    </tr>\n    <tr>\n      <th>4</th>\n      <td>Bob</td>\n      <td>Grade</td>\n      <td>12</td>\n    </tr>\n    <tr>\n      <th>5</th>\n      <td>Ciel</td>\n      <td>Grade</td>\n      <td>11</td>\n    </tr>\n  </tbody>\n</table>\n</div>"
     },
     "execution_count": 8,
     "metadata": {},
     "output_type": "execute_result"
    }
   ],
   "source": [
    "df"
   ],
   "metadata": {
    "collapsed": false,
    "pycharm": {
     "name": "#%%\n"
    }
   }
  },
  {
   "cell_type": "code",
   "execution_count": 9,
   "outputs": [
    {
     "data": {
      "text/plain": "         value        \nvariable Grade Program\nName                  \nAdam        10      DS\nBob         12      CV\nCiel        11      DS",
      "text/html": "<div>\n<style scoped>\n    .dataframe tbody tr th:only-of-type {\n        vertical-align: middle;\n    }\n\n    .dataframe tbody tr th {\n        vertical-align: top;\n    }\n\n    .dataframe thead tr th {\n        text-align: left;\n    }\n\n    .dataframe thead tr:last-of-type th {\n        text-align: right;\n    }\n</style>\n<table border=\"1\" class=\"dataframe\">\n  <thead>\n    <tr>\n      <th></th>\n      <th colspan=\"2\" halign=\"left\">value</th>\n    </tr>\n    <tr>\n      <th>variable</th>\n      <th>Grade</th>\n      <th>Program</th>\n    </tr>\n    <tr>\n      <th>Name</th>\n      <th></th>\n      <th></th>\n    </tr>\n  </thead>\n  <tbody>\n    <tr>\n      <th>Adam</th>\n      <td>10</td>\n      <td>DS</td>\n    </tr>\n    <tr>\n      <th>Bob</th>\n      <td>12</td>\n      <td>CV</td>\n    </tr>\n    <tr>\n      <th>Ciel</th>\n      <td>11</td>\n      <td>DS</td>\n    </tr>\n  </tbody>\n</table>\n</div>"
     },
     "execution_count": 9,
     "metadata": {},
     "output_type": "execute_result"
    }
   ],
   "source": [
    "pd.pivot(df, index=[\"Name\"], columns=[\"variable\"])"
   ],
   "metadata": {
    "collapsed": false,
    "pycharm": {
     "name": "#%%\n"
    }
   }
  }
 ],
 "metadata": {
  "kernelspec": {
   "display_name": "Python 3",
   "language": "python",
   "name": "python3"
  },
  "language_info": {
   "codemirror_mode": {
    "name": "ipython",
    "version": 2
   },
   "file_extension": ".py",
   "mimetype": "text/x-python",
   "name": "python",
   "nbconvert_exporter": "python",
   "pygments_lexer": "ipython2",
   "version": "2.7.6"
  }
 },
 "nbformat": 4,
 "nbformat_minor": 0
}