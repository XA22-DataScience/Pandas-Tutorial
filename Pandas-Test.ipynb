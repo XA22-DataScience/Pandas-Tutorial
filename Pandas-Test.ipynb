{
 "cells": [
  {
   "cell_type": "code",
   "execution_count": 1,
   "metadata": {
    "collapsed": true,
    "pycharm": {
     "name": "#%%\n"
    }
   },
   "outputs": [],
   "source": [
    "import pandas as pd"
   ]
  },
  {
   "cell_type": "markdown",
   "source": [
    "### 测试1\n",
    "\n",
    "请将以下两个DataFrame中的数据转换为以Name为索引，Subject为列名的格式（删除多余的数据）"
   ],
   "metadata": {
    "collapsed": false,
    "pycharm": {
     "name": "#%% md\n"
    }
   }
  },
  {
   "cell_type": "code",
   "execution_count": 2,
   "outputs": [],
   "source": [
    "df1 = pd.DataFrame(\n",
    "    {\"Name\": [\"Eden\", \"Eden\", \"Eden\", \"Faye\", \"Faye\", \"Faye\", \"Gary\", \"Gary\"],\n",
    "     \"Subject\": [\"BIO\", \"CHEM\", \"ENG\", \"ENG\", \"MAT\", \"PHY\", \"ENG\", \"PSY\"],\n",
    "     \"Score\": [90, 78, 96, 97, 87, 96, 86, 79]}\n",
    ")\n",
    "\n",
    "df2 = pd.DataFrame(\n",
    "    {\"Name\": [\"Hank\", \"Hank\", \"Ibuki\", \"Ibuki\", \"Jack\", \"Jack\"],\n",
    "     \"Grade\": [12, 12, 10, 10, 11, 11],\n",
    "     \"Subject\": [\"CHEM\", \"MAT\", \"ENG\", \"PSY\", \"MAT\", \"PHY\"],\n",
    "     \"Score\": [67, 53, 86, 89, 96, 89]}\n",
    ")"
   ],
   "metadata": {
    "collapsed": false,
    "pycharm": {
     "name": "#%%\n"
    }
   }
  },
  {
   "cell_type": "code",
   "execution_count": 3,
   "outputs": [
    {
     "data": {
      "text/plain": "   Name Subject  Score\n0  Eden     BIO     90\n1  Eden    CHEM     78\n2  Eden     ENG     96\n3  Faye     ENG     97\n4  Faye     MAT     87\n5  Faye     PHY     96\n6  Gary     ENG     86\n7  Gary     PSY     79",
      "text/html": "<div>\n<style scoped>\n    .dataframe tbody tr th:only-of-type {\n        vertical-align: middle;\n    }\n\n    .dataframe tbody tr th {\n        vertical-align: top;\n    }\n\n    .dataframe thead th {\n        text-align: right;\n    }\n</style>\n<table border=\"1\" class=\"dataframe\">\n  <thead>\n    <tr style=\"text-align: right;\">\n      <th></th>\n      <th>Name</th>\n      <th>Subject</th>\n      <th>Score</th>\n    </tr>\n  </thead>\n  <tbody>\n    <tr>\n      <th>0</th>\n      <td>Eden</td>\n      <td>BIO</td>\n      <td>90</td>\n    </tr>\n    <tr>\n      <th>1</th>\n      <td>Eden</td>\n      <td>CHEM</td>\n      <td>78</td>\n    </tr>\n    <tr>\n      <th>2</th>\n      <td>Eden</td>\n      <td>ENG</td>\n      <td>96</td>\n    </tr>\n    <tr>\n      <th>3</th>\n      <td>Faye</td>\n      <td>ENG</td>\n      <td>97</td>\n    </tr>\n    <tr>\n      <th>4</th>\n      <td>Faye</td>\n      <td>MAT</td>\n      <td>87</td>\n    </tr>\n    <tr>\n      <th>5</th>\n      <td>Faye</td>\n      <td>PHY</td>\n      <td>96</td>\n    </tr>\n    <tr>\n      <th>6</th>\n      <td>Gary</td>\n      <td>ENG</td>\n      <td>86</td>\n    </tr>\n    <tr>\n      <th>7</th>\n      <td>Gary</td>\n      <td>PSY</td>\n      <td>79</td>\n    </tr>\n  </tbody>\n</table>\n</div>"
     },
     "execution_count": 3,
     "metadata": {},
     "output_type": "execute_result"
    }
   ],
   "source": [
    "df1"
   ],
   "metadata": {
    "collapsed": false,
    "pycharm": {
     "name": "#%%\n"
    }
   }
  },
  {
   "cell_type": "code",
   "execution_count": 4,
   "outputs": [
    {
     "data": {
      "text/plain": "    Name  Grade Subject  Score\n0   Hank     12    CHEM     67\n1   Hank     12     MAT     53\n2  Ibuki     10     ENG     86\n3  Ibuki     10     PSY     89\n4   Jack     11     MAT     96\n5   Jack     11     PHY     89",
      "text/html": "<div>\n<style scoped>\n    .dataframe tbody tr th:only-of-type {\n        vertical-align: middle;\n    }\n\n    .dataframe tbody tr th {\n        vertical-align: top;\n    }\n\n    .dataframe thead th {\n        text-align: right;\n    }\n</style>\n<table border=\"1\" class=\"dataframe\">\n  <thead>\n    <tr style=\"text-align: right;\">\n      <th></th>\n      <th>Name</th>\n      <th>Grade</th>\n      <th>Subject</th>\n      <th>Score</th>\n    </tr>\n  </thead>\n  <tbody>\n    <tr>\n      <th>0</th>\n      <td>Hank</td>\n      <td>12</td>\n      <td>CHEM</td>\n      <td>67</td>\n    </tr>\n    <tr>\n      <th>1</th>\n      <td>Hank</td>\n      <td>12</td>\n      <td>MAT</td>\n      <td>53</td>\n    </tr>\n    <tr>\n      <th>2</th>\n      <td>Ibuki</td>\n      <td>10</td>\n      <td>ENG</td>\n      <td>86</td>\n    </tr>\n    <tr>\n      <th>3</th>\n      <td>Ibuki</td>\n      <td>10</td>\n      <td>PSY</td>\n      <td>89</td>\n    </tr>\n    <tr>\n      <th>4</th>\n      <td>Jack</td>\n      <td>11</td>\n      <td>MAT</td>\n      <td>96</td>\n    </tr>\n    <tr>\n      <th>5</th>\n      <td>Jack</td>\n      <td>11</td>\n      <td>PHY</td>\n      <td>89</td>\n    </tr>\n  </tbody>\n</table>\n</div>"
     },
     "execution_count": 4,
     "metadata": {},
     "output_type": "execute_result"
    }
   ],
   "source": [
    "df2"
   ],
   "metadata": {
    "collapsed": false,
    "pycharm": {
     "name": "#%%\n"
    }
   }
  },
  {
   "cell_type": "code",
   "execution_count": 5,
   "outputs": [],
   "source": [
    "# 请在此填入答案"
   ],
   "metadata": {
    "collapsed": false,
    "pycharm": {
     "name": "#%%\n"
    }
   }
  }
 ],
 "metadata": {
  "kernelspec": {
   "display_name": "Python 3",
   "language": "python",
   "name": "python3"
  },
  "language_info": {
   "codemirror_mode": {
    "name": "ipython",
    "version": 2
   },
   "file_extension": ".py",
   "mimetype": "text/x-python",
   "name": "python",
   "nbconvert_exporter": "python",
   "pygments_lexer": "ipython2",
   "version": "2.7.6"
  }
 },
 "nbformat": 4,
 "nbformat_minor": 0
}